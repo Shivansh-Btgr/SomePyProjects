{
 "cells": [
  {
   "cell_type": "markdown",
   "metadata": {},
   "source": [
    "### Let Us See How Much Luck Really Influences Success"
   ]
  },
  {
   "cell_type": "markdown",
   "metadata": {},
   "source": [
    "##### Lets first get the tools we need."
   ]
  },
  {
   "cell_type": "code",
   "execution_count": 2,
   "metadata": {},
   "outputs": [],
   "source": [
    "import numpy as np\n",
    "import random"
   ]
  },
  {
   "cell_type": "markdown",
   "metadata": {},
   "source": [
    "##### Now Let Us Make a Function to Generate Scores"
   ]
  },
  {
   "cell_type": "code",
   "execution_count": 3,
   "metadata": {},
   "outputs": [],
   "source": [
    "def generate_scores(num_scores, score_min, score_max, alpha, beta):\n",
    "    beta_values = np.random.beta(alpha, beta, num_scores)\n",
    "    scores = score_min + beta_values * (score_max - score_min)\n",
    "    return scores"
   ]
  },
  {
   "cell_type": "markdown",
   "metadata": {},
   "source": [
    "##### Now Here are all the knobs you can tweek to get your desired results"
   ]
  },
  {
   "cell_type": "code",
   "execution_count": 14,
   "metadata": {},
   "outputs": [],
   "source": [
    "num_scores = 100000 # Total Candidates\n",
    "score_min = 0 # Minimum Score Possible\n",
    "score_max = 100 # Maximum Score Possible\n",
    "alpha = 1 # Alpha and Beta are to make the scores follow a distribution. if you want a normal distribution you can use 5,2 for them. \n",
    "beta = 1\n",
    "luck_score = 5 # This is the max luck value. So luck for any candidate will vary from 0 to this number.\n",
    "top_n = 100 #How many candidates we want to observe for change. Basically changes is top n where this is n.\n",
    "\n",
    "\n",
    "scores = generate_scores(num_scores, score_min, score_max, alpha, beta)"
   ]
  },
  {
   "cell_type": "markdown",
   "metadata": {},
   "source": [
    "##### Now here is the crude internal logic. Im sure it can be made better but it gets the job done So..."
   ]
  },
  {
   "cell_type": "code",
   "execution_count": 15,
   "metadata": {},
   "outputs": [
    {
     "name": "stdout",
     "output_type": "stream",
     "text": [
      "Out of the 100 candidates, 83 still made it after the luck changes!\n"
     ]
    }
   ],
   "source": [
    "# Ok now I will attach an ID with each score\n",
    "x = []\n",
    "for i in range(1,num_scores) :\n",
    "    x.append([scores[i], i])\n",
    "\n",
    "\n",
    "# Now I'll be sorting the list out :\n",
    "x.sort(key=lambda item: item[0])\n",
    "\n",
    "top_n_no_luck = x[-1:-1*top_n:-1]\n",
    "\n",
    "# Now we will sprinkle in a bit of luck here and there\n",
    "\n",
    "for i in x :\n",
    "    luck = random.randint(0, luck_score)\n",
    "    if i[0] + luck >= 100 :\n",
    "        i[0] = 100\n",
    "    else :\n",
    "        i[0] += luck\n",
    "\n",
    "#Now we re-sort the list\n",
    "\n",
    "x.sort(key=lambda item: item[0])\n",
    "\n",
    "top_n_with_luck = x[-1:-1*top_n:-1]\n",
    "\n",
    "common = 0\n",
    "# Compare the lists and count the number of common elements\n",
    "for i in top_n_no_luck :\n",
    "    if i in top_n_with_luck :\n",
    "        common += 1\n",
    "\n",
    "print(f\"Out of the {top_n} candidates, {common} still made it after the luck changes!\")\n"
   ]
  }
 ],
 "metadata": {
  "kernelspec": {
   "display_name": "base",
   "language": "python",
   "name": "python3"
  },
  "language_info": {
   "codemirror_mode": {
    "name": "ipython",
    "version": 3
   },
   "file_extension": ".py",
   "mimetype": "text/x-python",
   "name": "python",
   "nbconvert_exporter": "python",
   "pygments_lexer": "ipython3",
   "version": "3.12.4"
  }
 },
 "nbformat": 4,
 "nbformat_minor": 2
}
